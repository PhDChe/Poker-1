{
 "cells": [
  {
   "cell_type": "markdown",
   "metadata": {},
   "source": [
    "# Introduction\n",
    "\n",
    "In this article, we show how to represent basic poker elements in Python, e.g., Hands and Combos, and how to calculate poker odds, i.e., likelihood of win/tie/lose in No-Limit Texas Hold'em.\n",
    "\n",
    "We provide a practical analysis based on a real story in a *Night at the Venetian*.\n",
    "\n",
    "We will use the package **poker** to represent hands, combos and ranges. I have extended the poker odds calculator from [Kevin Tseng](https://github.com/ktseng/holdem_calc), so it is able to calculate poker probabilities based on ranges (set of possible hands) in addition to individual hands. The final code is available in my [repo](https://github.com/souzatharsis/holdem_calc)."
   ]
  },
  {
   "cell_type": "code",
   "execution_count": 1,
   "metadata": {},
   "outputs": [],
   "source": [
    "from poker import Range\n",
    "from poker.hand import Combo\n",
    "\n",
    "import holdem_calc\n",
    "import holdem_functions\n",
    "\n",
    "import numpy as np\n",
    "import pandas as pd\n",
    "import matplotlib.pyplot as plt\n",
    "from IPython.core.display import display, HTML\n",
    "\n",
    "hero_odds = []\n",
    "hero_range_odds = []"
   ]
  },
  {
   "cell_type": "markdown",
   "metadata": {},
   "source": [
    "# The Flop\n",
    "\n",
    "I was dealt with King of Spades and Jack of Clubs (K♠J♣). I will use the Class Combo from the **poker.hand** package to construct my hand."
   ]
  },
  {
   "cell_type": "code",
   "execution_count": 2,
   "metadata": {},
   "outputs": [
    {
     "name": "stdout",
     "output_type": "stream",
     "text": [
      "K♠J♣\n"
     ]
    }
   ],
   "source": [
    "# my hand = King of spades and Jack of clubs\n",
    "hero_hand = Combo('KsJc')\n",
    "print(hero_hand)"
   ]
  },
  {
   "cell_type": "markdown",
   "metadata": {},
   "source": [
    "I do not remember exactly what happened pre-flop and what my position was. However, I do remember there was a raise pre-flop and only two players were left post-flop: myself and the villain.\n",
    "\n",
    "We are now heads-up. The flop comes Queen of Clubs, Ten of Hearts and Jack of Clubs. Yes, I flopped a Straight!\n",
    "\n",
    "Let's calculate my odds post-flop assuming no prior knowledge about the villain's cards, i.e., we will compute how likely my hand is to win against a random pair of hole cards given the flop."
   ]
  },
  {
   "cell_type": "code",
   "execution_count": 3,
   "metadata": {},
   "outputs": [
    {
     "name": "stdout",
     "output_type": "stream",
     "text": [
      "Time elapsed:  11.021019220352173\n"
     ]
    }
   ],
   "source": [
    "flop = [\"Qc\", \"Th\", \"9s\"] # the flop\n",
    "board = flop # the board equals the flop\n",
    "villan_hand = None # no prior knowledge about the villan\n",
    "exact_calculation = True #  calculates exactly by simulating the set of all possible hands\n",
    "verbose = True # returns odds of making a certain poker hand, e.g., quads, set, straight\n",
    "num_sims = 1 # ignored by exact_calculation = True\n",
    "read_from_file = None # we are not reading hands from file\n",
    "\n",
    "\n",
    "odds = holdem_calc.calculate_odds_villan(board, exact_calculation, \n",
    "                            num_sims, read_from_file , \n",
    "                            hero_hand, villan_hand, \n",
    "                            verbose, print_elapsed_time = True)"
   ]
  },
  {
   "cell_type": "markdown",
   "metadata": {},
   "source": [
    "The function **calculate_odds_villan** from **holdem_calc** calculates the probability that a certain Texas Hold'em hand will win. This probability is approximated by running a Monte Carlo method or calculated exactly by simulating the set of all possible hands. Calculating exact odds post-flop is fast so we won't need Monte Carlo approximations here. Here's our odds:"
   ]
  },
  {
   "cell_type": "code",
   "execution_count": 4,
   "metadata": {},
   "outputs": [],
   "source": [
    "hero_odds.append(odds[0]['win'])"
   ]
  },
  {
   "cell_type": "code",
   "execution_count": 5,
   "metadata": {},
   "outputs": [
    {
     "data": {
      "text/plain": [
       "{'tie': 0.04138424018164999,\n",
       " 'win': 0.9308440557284221,\n",
       " 'lose': 0.027771704089927955}"
      ]
     },
     "execution_count": 5,
     "metadata": {},
     "output_type": "execute_result"
    }
   ],
   "source": [
    "odds[0]"
   ]
  },
  {
   "cell_type": "markdown",
   "metadata": {},
   "source": [
    "At this point I'm feeling pretty good. Against a random hand, I only have a 2.77% chance to lose and over 93% chance to win. However, that's optimistic."
   ]
  },
  {
   "cell_type": "markdown",
   "metadata": {},
   "source": [
    "Given that there was a raise pre-flop and only myself and the villain were left post-flop, it's likely the villain has something, right? We call this likely set of hands a *range*. This is an inference we make based on several factors including villain's behavior, position, bet size etc. This inference leads to a set of combos of hands we assume the villain might have. At this point, I was thinking the villain had: \n",
    "   * A pair of sevens or better\n",
    "   * Ace / Ten or better\n",
    "   * King / Jack or better\n",
    "We can represent this range using the Class Range as below:"
   ]
  },
  {
   "cell_type": "code",
   "execution_count": 6,
   "metadata": {},
   "outputs": [
    {
     "data": {
      "text/html": [
       "<table class=\"range\"><tr><td class=\"pair\">AA</td><td class=\"suited\">AKs</td><td class=\"suited\">AQs</td><td class=\"suited\">AJs</td><td class=\"suited\">ATs</td><td class=\"suited\"></td><td class=\"suited\"></td><td class=\"suited\"></td><td class=\"suited\"></td><td class=\"suited\"></td><td class=\"suited\"></td><td class=\"suited\"></td><td class=\"suited\"></td></tr><tr><td class=\"offsuit\">AKo</td><td class=\"pair\">KK</td><td class=\"suited\">KQs</td><td class=\"suited\">KJs</td><td class=\"suited\"></td><td class=\"suited\"></td><td class=\"suited\"></td><td class=\"suited\"></td><td class=\"suited\"></td><td class=\"suited\"></td><td class=\"suited\"></td><td class=\"suited\"></td><td class=\"suited\"></td></tr><tr><td class=\"offsuit\">AQo</td><td class=\"offsuit\">KQo</td><td class=\"pair\">QQ</td><td class=\"suited\"></td><td class=\"suited\"></td><td class=\"suited\"></td><td class=\"suited\"></td><td class=\"suited\"></td><td class=\"suited\"></td><td class=\"suited\"></td><td class=\"suited\"></td><td class=\"suited\"></td><td class=\"suited\"></td></tr><tr><td class=\"offsuit\">AJo</td><td class=\"offsuit\">KJo</td><td class=\"offsuit\"></td><td class=\"pair\">JJ</td><td class=\"suited\"></td><td class=\"suited\"></td><td class=\"suited\"></td><td class=\"suited\"></td><td class=\"suited\"></td><td class=\"suited\"></td><td class=\"suited\"></td><td class=\"suited\"></td><td class=\"suited\"></td></tr><tr><td class=\"offsuit\">ATo</td><td class=\"offsuit\"></td><td class=\"offsuit\"></td><td class=\"offsuit\"></td><td class=\"pair\">TT</td><td class=\"suited\"></td><td class=\"suited\"></td><td class=\"suited\"></td><td class=\"suited\"></td><td class=\"suited\"></td><td class=\"suited\"></td><td class=\"suited\"></td><td class=\"suited\"></td></tr><tr><td class=\"offsuit\"></td><td class=\"offsuit\"></td><td class=\"offsuit\"></td><td class=\"offsuit\"></td><td class=\"offsuit\"></td><td class=\"pair\">99</td><td class=\"suited\"></td><td class=\"suited\"></td><td class=\"suited\"></td><td class=\"suited\"></td><td class=\"suited\"></td><td class=\"suited\"></td><td class=\"suited\"></td></tr><tr><td class=\"offsuit\"></td><td class=\"offsuit\"></td><td class=\"offsuit\"></td><td class=\"offsuit\"></td><td class=\"offsuit\"></td><td class=\"offsuit\"></td><td class=\"pair\">88</td><td class=\"suited\"></td><td class=\"suited\"></td><td class=\"suited\"></td><td class=\"suited\"></td><td class=\"suited\"></td><td class=\"suited\"></td></tr><tr><td class=\"offsuit\"></td><td class=\"offsuit\"></td><td class=\"offsuit\"></td><td class=\"offsuit\"></td><td class=\"offsuit\"></td><td class=\"offsuit\"></td><td class=\"offsuit\"></td><td class=\"pair\">77</td><td class=\"suited\"></td><td class=\"suited\"></td><td class=\"suited\"></td><td class=\"suited\"></td><td class=\"suited\"></td></tr><tr><td class=\"offsuit\"></td><td class=\"offsuit\"></td><td class=\"offsuit\"></td><td class=\"offsuit\"></td><td class=\"offsuit\"></td><td class=\"offsuit\"></td><td class=\"offsuit\"></td><td class=\"offsuit\"></td><td class=\"pair\"></td><td class=\"suited\"></td><td class=\"suited\"></td><td class=\"suited\"></td><td class=\"suited\"></td></tr><tr><td class=\"offsuit\"></td><td class=\"offsuit\"></td><td class=\"offsuit\"></td><td class=\"offsuit\"></td><td class=\"offsuit\"></td><td class=\"offsuit\"></td><td class=\"offsuit\"></td><td class=\"offsuit\"></td><td class=\"offsuit\"></td><td class=\"pair\"></td><td class=\"suited\"></td><td class=\"suited\"></td><td class=\"suited\"></td></tr><tr><td class=\"offsuit\"></td><td class=\"offsuit\"></td><td class=\"offsuit\"></td><td class=\"offsuit\"></td><td class=\"offsuit\"></td><td class=\"offsuit\"></td><td class=\"offsuit\"></td><td class=\"offsuit\"></td><td class=\"offsuit\"></td><td class=\"offsuit\"></td><td class=\"pair\"></td><td class=\"suited\"></td><td class=\"suited\"></td></tr><tr><td class=\"offsuit\"></td><td class=\"offsuit\"></td><td class=\"offsuit\"></td><td class=\"offsuit\"></td><td class=\"offsuit\"></td><td class=\"offsuit\"></td><td class=\"offsuit\"></td><td class=\"offsuit\"></td><td class=\"offsuit\"></td><td class=\"offsuit\"></td><td class=\"offsuit\"></td><td class=\"pair\"></td><td class=\"suited\"></td></tr><tr><td class=\"offsuit\"></td><td class=\"offsuit\"></td><td class=\"offsuit\"></td><td class=\"offsuit\"></td><td class=\"offsuit\"></td><td class=\"offsuit\"></td><td class=\"offsuit\"></td><td class=\"offsuit\"></td><td class=\"offsuit\"></td><td class=\"offsuit\"></td><td class=\"offsuit\"></td><td class=\"offsuit\"></td><td class=\"pair\"></td></tr></table>"
      ],
      "text/plain": [
       "<IPython.core.display.HTML object>"
      ]
     },
     "metadata": {},
     "output_type": "display_data"
    },
    {
     "name": "stdout",
     "output_type": "stream",
     "text": [
      "#combo combinations:144\n"
     ]
    }
   ],
   "source": [
    "villan_range = Range('77+, AT+, KJ+')\n",
    "display(HTML(villan_range.to_html()))\n",
    "print(\"#combo combinations:\" + str(len(villan_range.combos)))"
   ]
  },
  {
   "cell_type": "markdown",
   "metadata": {},
   "source": [
    "This brings our villain's hand combos down to 144 combinations from a total of 51*52–1 = 2651 possible hands. Let's calculate my odds now assuming ranges for the villain."
   ]
  },
  {
   "cell_type": "code",
   "execution_count": 7,
   "metadata": {},
   "outputs": [
    {
     "data": {
      "text/plain": [
       "[None, None, None]"
      ]
     },
     "execution_count": 7,
     "metadata": {},
     "output_type": "execute_result"
    }
   ],
   "source": [
    "items = [holdem_calc.calculate_odds_villan(board, exact_calculation, \n",
    "                            num_sims, read_from_file , \n",
    "                            hero_hand, villan_hand, \n",
    "                            verbose, print_elapsed_time = False) for villan_hand in villan_range.combos]\n",
    "\n",
    "odds = {}\n",
    "[odds.update({odd_type: np.mean([res[0][odd_type] for res in items if res])}) for odd_type in [\"tie\", \"win\", \"lose\"]]"
   ]
  },
  {
   "cell_type": "code",
   "execution_count": 8,
   "metadata": {},
   "outputs": [],
   "source": [
    "hero_range_odds.append(odds['win'])"
   ]
  },
  {
   "cell_type": "code",
   "execution_count": 9,
   "metadata": {},
   "outputs": [
    {
     "data": {
      "text/plain": [
       "{'tie': 0.11423324150596878,\n",
       " 'win': 0.8030711151923272,\n",
       " 'lose': 0.08269564330170392}"
      ]
     },
     "execution_count": 9,
     "metadata": {},
     "output_type": "execute_result"
    }
   ],
   "source": [
    "odds"
   ]
  },
  {
   "cell_type": "markdown",
   "metadata": {},
   "source": [
    "Given the assumed ranges, my winning odds dropped from a 93% to 80%. However, I still have a very low probability of losing of 8.2%. At this point, I'm pretty comfortable. But should I bet? I definitively want the villain to continue playing and not fold yet. But how likely is he of having a good hand post-flop? Let's see what are the odds of him making a hand if we continued playing until the end."
   ]
  },
  {
   "cell_type": "code",
   "execution_count": 10,
   "metadata": {},
   "outputs": [
    {
     "name": "stdout",
     "output_type": "stream",
     "text": [
      "High Card: 0.06978879706152433\n",
      "Pair: 0.3662891541679421\n",
      "Two Pair: 0.23085399449035812\n",
      "Three of a Kind: 0.09733700642791548\n",
      "Straight: 0.18498112437506373\n",
      "Flush: 0.0040608101214161816\n",
      "Full House: 0.04205693296602388\n",
      "Four of a Kind: 0.004560759106213652\n",
      "Straight Flush: 2.0406081012141617e-05\n",
      "Royal Flush: 5.101520253035404e-05\n"
     ]
    }
   ],
   "source": [
    "for hand_ranking in holdem_functions.hand_rankings:\n",
    "    print(hand_ranking +\": \" + str(np.mean([res[1][1][hand_ranking] for res in items if res])))"
   ]
  },
  {
   "cell_type": "markdown",
   "metadata": {},
   "source": [
    "If we continue playing until the river, the villain has a good chance of making a Pair (36%) or even Two Pair (23%). He has a nice probability of hitting a Straight (18%) or even making a Set (9.7%) or a Full House (4%). As the villain has a good chance of having a reasonable hand, I then decide to bet high, about 2/3 of the pot. The villain tanks and finally calls."
   ]
  },
  {
   "cell_type": "markdown",
   "metadata": {},
   "source": [
    "# The Turn\n",
    "\n",
    "The turn comes and it's a duece of diamonds (2♦). Basically, it's a blank, i.e., it does not change much our game."
   ]
  },
  {
   "cell_type": "code",
   "execution_count": 11,
   "metadata": {},
   "outputs": [
    {
     "name": "stdout",
     "output_type": "stream",
     "text": [
      "Time elapsed:  0.5410661697387695\n",
      "{'tie': 0.0233201581027668, 'win': 0.9677206851119895, 'lose': 0.008959156785243741}\n"
     ]
    }
   ],
   "source": [
    "turn= [\"2d\"]\n",
    "board = flop + turn\n",
    "villan_hand = None\n",
    "\n",
    "odds = holdem_calc.calculate_odds_villan(board, exact_calculation, \n",
    "                            num_sims, read_from_file , \n",
    "                            hero_hand, villan_hand, \n",
    "                            verbose, print_elapsed_time = True)\n",
    "hero_odds.append(odds[0]['win'])\n",
    "\n",
    "print(odds[0])"
   ]
  },
  {
   "cell_type": "markdown",
   "metadata": {},
   "source": [
    "Assuming random cards for the villain, I am now with 96% odds of winning. However, considering my assumed ranges for the villain, my winning odds are now 86% up from 80% in the flop. I bet high again, the villain calls and here comes the river."
   ]
  },
  {
   "cell_type": "code",
   "execution_count": 12,
   "metadata": {},
   "outputs": [
    {
     "data": {
      "text/plain": [
       "[None, None, None]"
      ]
     },
     "execution_count": 12,
     "metadata": {},
     "output_type": "execute_result"
    }
   ],
   "source": [
    "items = [holdem_calc.calculate_odds_villan(board, exact_calculation, \n",
    "                            num_sims, read_from_file , \n",
    "                            hero_hand, villan_hand, \n",
    "                            verbose, print_elapsed_time = False) for villan_hand in villan_range.combos]\n",
    "\n",
    "odds = {}\n",
    "[odds.update({odd_type: np.mean([res[0][odd_type] for res in items if res])}) for odd_type in [\"tie\", \"win\", \"lose\"]]"
   ]
  },
  {
   "cell_type": "code",
   "execution_count": 13,
   "metadata": {},
   "outputs": [],
   "source": [
    "hero_range_odds.append(odds['win'])"
   ]
  },
  {
   "cell_type": "code",
   "execution_count": 14,
   "metadata": {},
   "outputs": [
    {
     "data": {
      "text/plain": [
       "{'tie': 0.10123966942148759,\n",
       " 'win': 0.8615702479338843,\n",
       " 'lose': 0.0371900826446281}"
      ]
     },
     "execution_count": 14,
     "metadata": {},
     "output_type": "execute_result"
    }
   ],
   "source": [
    "odds"
   ]
  },
  {
   "cell_type": "markdown",
   "metadata": {},
   "source": [
    "# The River\n",
    "\n",
    "King of Clubs is the river (K♣). A King in the river makes a Straight much more likely for the villain to hold. So this is bad news for me."
   ]
  },
  {
   "cell_type": "code",
   "execution_count": 15,
   "metadata": {},
   "outputs": [
    {
     "name": "stdout",
     "output_type": "stream",
     "text": [
      "Time elapsed:  0.03231000900268555\n",
      "{'tie': 0.11818181818181818, 'win': 0.8696969696969697, 'lose': 0.012121212121212121}\n"
     ]
    }
   ],
   "source": [
    "river = [\"Kc\"]\n",
    "board = flop + turn + river \n",
    "verbose = True\n",
    "\n",
    "villan_hand = None\n",
    "\n",
    "odds = holdem_calc.calculate_odds_villan(board, exact_calculation, \n",
    "                            num_sims, read_from_file , \n",
    "                            hero_hand, villan_hand, \n",
    "                            verbose, print_elapsed_time = True)\n",
    "hero_odds.append(odds[0]['win'])\n",
    "\n",
    "print(odds[0])"
   ]
  },
  {
   "cell_type": "markdown",
   "metadata": {},
   "source": [
    "Now, my winning odds dropped from 96% to about 87% against random cards. But I'm still losing only with a very low probability of 1.2%. OK, the bad river is not that bad, right?"
   ]
  },
  {
   "cell_type": "markdown",
   "metadata": {},
   "source": [
    "Well, there is one additional factor. The villain called my big bets both in the flop and in the river. He might have something better than I thought… right? I should then adjust my assumed ranges.\n",
    "\n",
    "Now, I'm thinking the villain no longer has 77's or 88's combos, otherwise he would not go that far given my high bets. I am thinking he might have a pair of 99's or better to make sets with 99's, 10's or QQ's. He might also have JJ's for a mid-pair and straight-draw. Or KK's and AA's which would be top pairs until the turn. I decided to keep the Ace Ten or better and the King Jack or better combos because of something called *implied odds*. Implied odds is an estimation on how much money you can win from the bet if you hit one of your outs. So the villain might be sticky waiting to hit a draw (which he might have just hit now??). Hence, I define my villain's updated range as follows:"
   ]
  },
  {
   "cell_type": "code",
   "execution_count": 16,
   "metadata": {},
   "outputs": [
    {
     "data": {
      "text/html": [
       "<table class=\"range\"><tr><td class=\"pair\">AA</td><td class=\"suited\">AKs</td><td class=\"suited\">AQs</td><td class=\"suited\">AJs</td><td class=\"suited\">ATs</td><td class=\"suited\"></td><td class=\"suited\"></td><td class=\"suited\"></td><td class=\"suited\"></td><td class=\"suited\"></td><td class=\"suited\"></td><td class=\"suited\"></td><td class=\"suited\"></td></tr><tr><td class=\"offsuit\">AKo</td><td class=\"pair\">KK</td><td class=\"suited\">KQs</td><td class=\"suited\">KJs</td><td class=\"suited\"></td><td class=\"suited\"></td><td class=\"suited\"></td><td class=\"suited\"></td><td class=\"suited\"></td><td class=\"suited\"></td><td class=\"suited\"></td><td class=\"suited\"></td><td class=\"suited\"></td></tr><tr><td class=\"offsuit\">AQo</td><td class=\"offsuit\">KQo</td><td class=\"pair\">QQ</td><td class=\"suited\"></td><td class=\"suited\"></td><td class=\"suited\"></td><td class=\"suited\"></td><td class=\"suited\"></td><td class=\"suited\"></td><td class=\"suited\"></td><td class=\"suited\"></td><td class=\"suited\"></td><td class=\"suited\"></td></tr><tr><td class=\"offsuit\">AJo</td><td class=\"offsuit\">KJo</td><td class=\"offsuit\"></td><td class=\"pair\">JJ</td><td class=\"suited\"></td><td class=\"suited\"></td><td class=\"suited\"></td><td class=\"suited\"></td><td class=\"suited\"></td><td class=\"suited\"></td><td class=\"suited\"></td><td class=\"suited\"></td><td class=\"suited\"></td></tr><tr><td class=\"offsuit\">ATo</td><td class=\"offsuit\"></td><td class=\"offsuit\"></td><td class=\"offsuit\"></td><td class=\"pair\">TT</td><td class=\"suited\"></td><td class=\"suited\"></td><td class=\"suited\"></td><td class=\"suited\"></td><td class=\"suited\"></td><td class=\"suited\"></td><td class=\"suited\"></td><td class=\"suited\"></td></tr><tr><td class=\"offsuit\"></td><td class=\"offsuit\"></td><td class=\"offsuit\"></td><td class=\"offsuit\"></td><td class=\"offsuit\"></td><td class=\"pair\">99</td><td class=\"suited\"></td><td class=\"suited\"></td><td class=\"suited\"></td><td class=\"suited\"></td><td class=\"suited\"></td><td class=\"suited\"></td><td class=\"suited\"></td></tr><tr><td class=\"offsuit\"></td><td class=\"offsuit\"></td><td class=\"offsuit\"></td><td class=\"offsuit\"></td><td class=\"offsuit\"></td><td class=\"offsuit\"></td><td class=\"pair\"></td><td class=\"suited\"></td><td class=\"suited\"></td><td class=\"suited\"></td><td class=\"suited\"></td><td class=\"suited\"></td><td class=\"suited\"></td></tr><tr><td class=\"offsuit\"></td><td class=\"offsuit\"></td><td class=\"offsuit\"></td><td class=\"offsuit\"></td><td class=\"offsuit\"></td><td class=\"offsuit\"></td><td class=\"offsuit\"></td><td class=\"pair\"></td><td class=\"suited\"></td><td class=\"suited\"></td><td class=\"suited\"></td><td class=\"suited\"></td><td class=\"suited\"></td></tr><tr><td class=\"offsuit\"></td><td class=\"offsuit\"></td><td class=\"offsuit\"></td><td class=\"offsuit\"></td><td class=\"offsuit\"></td><td class=\"offsuit\"></td><td class=\"offsuit\"></td><td class=\"offsuit\"></td><td class=\"pair\"></td><td class=\"suited\"></td><td class=\"suited\"></td><td class=\"suited\"></td><td class=\"suited\"></td></tr><tr><td class=\"offsuit\"></td><td class=\"offsuit\"></td><td class=\"offsuit\"></td><td class=\"offsuit\"></td><td class=\"offsuit\"></td><td class=\"offsuit\"></td><td class=\"offsuit\"></td><td class=\"offsuit\"></td><td class=\"offsuit\"></td><td class=\"pair\"></td><td class=\"suited\"></td><td class=\"suited\"></td><td class=\"suited\"></td></tr><tr><td class=\"offsuit\"></td><td class=\"offsuit\"></td><td class=\"offsuit\"></td><td class=\"offsuit\"></td><td class=\"offsuit\"></td><td class=\"offsuit\"></td><td class=\"offsuit\"></td><td class=\"offsuit\"></td><td class=\"offsuit\"></td><td class=\"offsuit\"></td><td class=\"pair\"></td><td class=\"suited\"></td><td class=\"suited\"></td></tr><tr><td class=\"offsuit\"></td><td class=\"offsuit\"></td><td class=\"offsuit\"></td><td class=\"offsuit\"></td><td class=\"offsuit\"></td><td class=\"offsuit\"></td><td class=\"offsuit\"></td><td class=\"offsuit\"></td><td class=\"offsuit\"></td><td class=\"offsuit\"></td><td class=\"offsuit\"></td><td class=\"pair\"></td><td class=\"suited\"></td></tr><tr><td class=\"offsuit\"></td><td class=\"offsuit\"></td><td class=\"offsuit\"></td><td class=\"offsuit\"></td><td class=\"offsuit\"></td><td class=\"offsuit\"></td><td class=\"offsuit\"></td><td class=\"offsuit\"></td><td class=\"offsuit\"></td><td class=\"offsuit\"></td><td class=\"offsuit\"></td><td class=\"offsuit\"></td><td class=\"pair\"></td></tr></table>"
      ],
      "text/plain": [
       "<IPython.core.display.HTML object>"
      ]
     },
     "metadata": {},
     "output_type": "display_data"
    },
    {
     "name": "stdout",
     "output_type": "stream",
     "text": [
      "#combo combinations:132\n"
     ]
    }
   ],
   "source": [
    "villan_range = Range('99+, AT+, KJ+') \n",
    "display(HTML(villan_range.to_html()))\n",
    "print(\"#combo combinations:\" + str(len(villan_range.combos)))"
   ]
  },
  {
   "cell_type": "markdown",
   "metadata": {},
   "source": [
    "Now the villain's combos are 132 down from 144. Let's calculate the updated odds."
   ]
  },
  {
   "cell_type": "code",
   "execution_count": 17,
   "metadata": {},
   "outputs": [
    {
     "data": {
      "text/plain": [
       "[None, None, None]"
      ]
     },
     "execution_count": 17,
     "metadata": {},
     "output_type": "execute_result"
    }
   ],
   "source": [
    "items = [holdem_calc.calculate_odds_villan(board, exact_calculation, \n",
    "                            num_sims, read_from_file , \n",
    "                            hero_hand, villan_hand, \n",
    "                            verbose, print_elapsed_time = False) for villan_hand in villan_range.combos]\n",
    "\n",
    "odds = {}\n",
    "[odds.update({odd_type: np.mean([res[0][odd_type] for res in items if res])}) for odd_type in [\"tie\", \"win\", \"lose\"]]"
   ]
  },
  {
   "cell_type": "code",
   "execution_count": 18,
   "metadata": {},
   "outputs": [],
   "source": [
    "hero_range_odds.append(odds['win'])"
   ]
  },
  {
   "cell_type": "code",
   "execution_count": 19,
   "metadata": {},
   "outputs": [
    {
     "data": {
      "text/plain": [
       "{'tie': 0.12, 'win': 0.72, 'lose': 0.16}"
      ]
     },
     "execution_count": 19,
     "metadata": {},
     "output_type": "execute_result"
    }
   ],
   "source": [
    "odds"
   ]
  },
  {
   "cell_type": "markdown",
   "metadata": {},
   "source": [
    "I now have a 72% chance to win (down from 86%) and my chances or losing have increased from 3.7% to 16% compared to our range analysis during the turn. I decide to check and the villain goes all-in, betting roughly 70% of the pot."
   ]
  },
  {
   "cell_type": "markdown",
   "metadata": {},
   "source": [
    "A basic and standard river strategy tells you the following:\n",
    "1. Use your absolute weakest holdings as river bluffs\n",
    "2. Use your strongest holdings as value-bets\n",
    "3. Check hands with mid-strength showdown-value in the hope of reaching showdown"
   ]
  },
  {
   "cell_type": "code",
   "execution_count": 20,
   "metadata": {},
   "outputs": [
    {
     "name": "stdout",
     "output_type": "stream",
     "text": [
      "High Card: 0.0\n",
      "Pair: 0.5066666666666667\n",
      "Two Pair: 0.08\n",
      "Three of a Kind: 0.13333333333333333\n",
      "Straight: 0.28\n",
      "Flush: 0.0\n",
      "Full House: 0.0\n",
      "Four of a Kind: 0.0\n",
      "Straight Flush: 0.0\n",
      "Royal Flush: 0.0\n"
     ]
    }
   ],
   "source": [
    "for hand_ranking in holdem_functions.hand_rankings:\n",
    "    print(hand_ranking +\": \" + str(np.mean([res[1][1][hand_ranking] for res in items if res])))"
   ]
  },
  {
   "cell_type": "markdown",
   "metadata": {},
   "source": [
    "From the odds histogram, we can group the villain's possible hands in 3 types:\n",
    "1. Bluff: He is holding {High Card, Pair} with 60.66% chance\n",
    "2. Mid-strength hand: He is holding {Two Pair} with 0.8% chance\n",
    "3. Value-bet (strongest holdings): He is holding {Three of a Kind, Straight} with 41.33% chance"
   ]
  },
  {
   "cell_type": "markdown",
   "metadata": {},
   "source": [
    "The villain's all-in makes sense, his mid-strength hand probability is too low to check. So here I'm thinking he is either bluffing, for instance due to a missed draw, or he has the nuts, and this is a value bet. This basic strategy of either bluffing if you have your weakest holdings or value-betting if you have a strong holding is sometimes called a polarized bet. That's what the villain is doing here.\n",
    "\n",
    "Looking back at the probabilities per type (bluff, mid-strength hand, value-bet), I basically should win at least 60.66% of the time and this is a conservative measure as the villain might be value betting a three of a kind. But should I call?"
   ]
  },
  {
   "cell_type": "markdown",
   "metadata": {},
   "source": [
    "Here comes another concept called *pot odds*. Pot odds refers to the price of calling a bet relative to the size of the pot. In summary, I should call if my probability of winning the pot is higher than the ratio between the price to call and the size of the pot after my call. Let's do some math:\n",
    "1. Chance to win >= 60.66% (conservatively)\n",
    "2. Price to call = 0.7 * pot size\n",
    "3. Pot size post-call = (1 + 0.7 + 0.7) * pot size\n",
    "4. Pot odds = Price to call / Pot size post-call = 29%"
   ]
  },
  {
   "cell_type": "markdown",
   "metadata": {},
   "source": [
    "My chance to win is at least double the pot odds. Hence, I proceed to call. The result? The villain turns his cards. The table once quiet makes a collective 'wow' while staring at the Ace Jack on the table making a Straight over Straight situation and leaving the villain with all of my chips."
   ]
  },
  {
   "cell_type": "markdown",
   "metadata": {},
   "source": [
    "# Discussion and Conclusion\n",
    "\n",
    "In this article, I showed how to represent basic poker elements (e.g. Hands and Combos) and how to calculate poker odds assuming random hands as well as ranges in Python while telling a true history of a night at the Venetian.\n",
    "\n",
    "We showed how exciting (and probabilistically interesting) poker can be. Below, I show how my winning odds changed from flop to turn and then river assuming random cards for the villain as well as inferring ranges."
   ]
  },
  {
   "cell_type": "code",
   "execution_count": 21,
   "metadata": {},
   "outputs": [],
   "source": [
    "df_odds = pd.DataFrame(\n",
    "{\"board\" : [\"flop\",\"turn\", \"river\"],\n",
    "\"hero_odds\" : hero_odds,\n",
    "\"hero_range_odds\" : hero_range_odds,\n",
    "},\n",
    "index = [1, 2, 3])"
   ]
  },
  {
   "cell_type": "code",
   "execution_count": 22,
   "metadata": {},
   "outputs": [
    {
     "data": {
      "image/png": "[encoded data removed]",
      "text/plain": [
       "<Figure size 432x288 with 1 Axes>"
      ]
     },
     "metadata": {
      "needs_background": "light"
     },
     "output_type": "display_data"
    }
   ],
   "source": [
    "ax = plt.gca()\n",
    "df_odds.plot(kind='line',x='board',y='hero_odds', marker='o', ax=ax)\n",
    "df_odds.plot(kind='line',x='board',y='hero_range_odds',color='red' ,marker='o', ax=ax)\n",
    "plt.show()"
   ]
  },
  {
   "cell_type": "markdown",
   "metadata": {},
   "source": [
    "We observe that I was a major favorite of winning this heads-up hand even though the final result was not in my favor. That's why poker players say you should focus on the decisions you make not on the results you have.\n",
    "\n",
    "Of course, all the analysis in this article assumed some ranges and basic poker strategies that formed my mental model at the time of playing and here implemented in Python. I'm no Poker Pro and there are many ways to go about this hand. I believe I have made several mistakes, for instance, underestimating the chances of the villain holding AJ given the pre-flop raise.\n",
    "\n",
    "I would be very curious how others would have analyzed this hand using the Python framework utilized here. Feel free to go ahead and fork the [repo](https://github.com/souzatharsis/holdem_calc)."
   ]
  }
 ],
 "metadata": {
  "kernelspec": {
   "display_name": "Python 3",
   "language": "python",
   "name": "python3"
  },
  "language_info": {
   "codemirror_mode": {
    "name": "ipython",
    "version": 3
   },
   "file_extension": ".py",
   "mimetype": "text/x-python",
   "name": "python",
   "nbconvert_exporter": "python",
   "pygments_lexer": "ipython3",
   "version": "3.8.2"
  }
 },
 "nbformat": 4,
 "nbformat_minor": 4
}
